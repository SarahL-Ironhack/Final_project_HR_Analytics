{
 "cells": [
  {
   "cell_type": "code",
   "execution_count": 1,
   "id": "0d4a6cef",
   "metadata": {},
   "outputs": [],
   "source": [
    "import pandas as pd"
   ]
  },
  {
   "cell_type": "code",
   "execution_count": 2,
   "id": "137d7883",
   "metadata": {},
   "outputs": [],
   "source": [
    "emp = pd.read_csv(r\"C:\\Users\\Sarah\\Documents\\IronSarah\\FINAL PROOJECT\\20 current employees Criteo - PROFILES (start of part2).csv\")"
   ]
  },
  {
   "cell_type": "code",
   "execution_count": 3,
   "id": "31af11da",
   "metadata": {},
   "outputs": [],
   "source": [
    "emp2 = pd.read_csv(r\"C:\\Users\\Sarah\\Documents\\IronSarah\\FINAL PROOJECT\\200 current employees Criteo PROFILES (part1).csv\")"
   ]
  },
  {
   "cell_type": "code",
   "execution_count": 4,
   "id": "92d38ea9",
   "metadata": {},
   "outputs": [],
   "source": [
    "data = pd.concat([emp, emp2])"
   ]
  },
  {
   "cell_type": "code",
   "execution_count": 8,
   "id": "77fb4442",
   "metadata": {},
   "outputs": [
    {
     "data": {
      "text/plain": [
       "linkedinProfile            1\n",
       "email                    220\n",
       "headline                   6\n",
       "location                   6\n",
       "imgUrl                    26\n",
       "                        ... \n",
       "website                  190\n",
       "error                    218\n",
       "mail                     220\n",
       "mutualConnectionsText    162\n",
       "birthday                 173\n",
       "Length: 63, dtype: int64"
      ]
     },
     "execution_count": 8,
     "metadata": {},
     "output_type": "execute_result"
    }
   ],
   "source": [
    "data.isnull().sum()"
   ]
  },
  {
   "cell_type": "code",
   "execution_count": 10,
   "id": "7e228503",
   "metadata": {},
   "outputs": [
    {
     "data": {
      "text/plain": [
       "Index(['linkedinProfile', 'email', 'headline', 'location', 'imgUrl',\n",
       "       'firstName', 'lastName', 'fullName', 'subscribers', 'connectionDegree',\n",
       "       'vmid', 'userId', 'linkedinSalesNavigatorUrl', 'connectionsUrl',\n",
       "       'mutualConnectionsUrl', 'company', 'companyUrl', 'jobTitle',\n",
       "       'jobDescription', 'jobLocation', 'jobDateRange', 'company2',\n",
       "       'companyUrl2', 'jobTitle2', 'jobDescription2', 'jobLocation2',\n",
       "       'jobDateRange2', 'school', 'schoolDegree', 'schoolDateRange', 'school2',\n",
       "       'schoolUrl2', 'schoolDegree2', 'schoolDegreeSpec2', 'schoolDateRange2',\n",
       "       'baseUrl', 'profileId', 'timestamp', 'description', 'connectionsCount',\n",
       "       'schoolUrl', 'schoolDegreeSpec', 'schoolDescription2', 'allSkills',\n",
       "       'skill1', 'endorsement1', 'skill2', 'endorsement2', 'skill3',\n",
       "       'endorsement3', 'skill4', 'endorsement4', 'skill5', 'endorsement5',\n",
       "       'skill6', 'endorsement6', 'twitter', 'schoolDescription', 'website',\n",
       "       'error', 'mail', 'mutualConnectionsText', 'birthday'],\n",
       "      dtype='object')"
      ]
     },
     "execution_count": 10,
     "metadata": {},
     "output_type": "execute_result"
    }
   ],
   "source": [
    "data.columns"
   ]
  },
  {
   "cell_type": "code",
   "execution_count": 14,
   "id": "dc6a2762",
   "metadata": {},
   "outputs": [],
   "source": [
    "data.head()\n",
    "data.drop(['email','linkedinProfile','imgUrl','fullName','connectionDegree','linkedinSalesNavigatorUrl',\n",
    "          'connectionsUrl','mutualConnectionsUrl','baseUrl','twitter','schoolDescription','website',\n",
    "          'error','mail','mutualConnectionsText','birthday'],axis=1, inplace=True)"
   ]
  },
  {
   "cell_type": "code",
   "execution_count": 31,
   "id": "5c8c2950",
   "metadata": {},
   "outputs": [
    {
     "data": {
      "text/plain": [
       "Index(['headline', 'location', 'firstName', 'lastName', 'subscribers',\n",
       "       'company', 'jobTitle', 'jobLocation', 'jobDateRange', 'company2',\n",
       "       'jobTitle2', 'jobDateRange2', 'school', 'schoolDegree',\n",
       "       'schoolDateRange', 'school2', 'schoolUrl2', 'schoolDegree2',\n",
       "       'schoolDegreeSpec2', 'schoolDateRange2', 'allSkills', 'skill1',\n",
       "       'endorsement1'],\n",
       "      dtype='object')"
      ]
     },
     "execution_count": 31,
     "metadata": {},
     "output_type": "execute_result"
    }
   ],
   "source": [
    "data.columns"
   ]
  },
  {
   "cell_type": "code",
   "execution_count": 18,
   "id": "8a2e5629",
   "metadata": {},
   "outputs": [],
   "source": [
    "data.drop(['vmid','userId','companyUrl','skill2','endorsement2','skill3','endorsement3','skill4',\n",
    "           'endorsement4','skill5','endorsement5','skill6','endorsement6'],axis=1, inplace=True)"
   ]
  },
  {
   "cell_type": "code",
   "execution_count": 21,
   "id": "6dd1b425",
   "metadata": {},
   "outputs": [],
   "source": [
    "data.drop(['jobDescription','profileId','timestamp'], axis=1, inplace=True)"
   ]
  },
  {
   "cell_type": "code",
   "execution_count": 29,
   "id": "5d90bd59",
   "metadata": {},
   "outputs": [],
   "source": [
    "data.drop(['jobDescription2','companyUrl2','jobLocation2','description','connectionsCount','schoolUrl',\n",
    "          'schoolDegreeSpec','schoolDescription2'], axis=1, inplace=True)"
   ]
  },
  {
   "cell_type": "code",
   "execution_count": 42,
   "id": "5a35055b",
   "metadata": {},
   "outputs": [
    {
     "data": {
      "text/plain": [
       "subscribers           6\n",
       "company               6\n",
       "jobTitle              6\n",
       "jobDateRange          6\n",
       "company2              6\n",
       "jobTitle2             6\n",
       "jobDateRange2         6\n",
       "school               10\n",
       "schoolDegree         29\n",
       "schoolDateRange      15\n",
       "school2              35\n",
       "schoolUrl2           81\n",
       "schoolDegree2        62\n",
       "schoolDegreeSpec2    77\n",
       "schoolDateRange2     39\n",
       "dtype: int64"
      ]
     },
     "execution_count": 42,
     "metadata": {},
     "output_type": "execute_result"
    }
   ],
   "source": [
    "data.isnull().sum()"
   ]
  },
  {
   "cell_type": "code",
   "execution_count": 41,
   "id": "8aa1ba1b",
   "metadata": {},
   "outputs": [],
   "source": [
    "data.drop(['headline','location','firstName','lastName','jobLocation','allSkills','skill1',\n",
    "           'endorsement1'],axis=1, inplace=True)"
   ]
  },
  {
   "cell_type": "code",
   "execution_count": 49,
   "id": "c3e8782f",
   "metadata": {},
   "outputs": [],
   "source": [
    "data.drop(['schoolUrl2'],axis=1,inplace=True)"
   ]
  },
  {
   "cell_type": "code",
   "execution_count": 44,
   "id": "23e7d77b",
   "metadata": {},
   "outputs": [
    {
     "data": {
      "text/plain": [
       "(223, 15)"
      ]
     },
     "execution_count": 44,
     "metadata": {},
     "output_type": "execute_result"
    }
   ],
   "source": [
    "data.shape"
   ]
  },
  {
   "cell_type": "code",
   "execution_count": 48,
   "id": "3d6ebee5",
   "metadata": {},
   "outputs": [],
   "source": [
    "data.fillna('unknown',inplace=True)"
   ]
  },
  {
   "cell_type": "code",
   "execution_count": 46,
   "id": "50d748e7",
   "metadata": {},
   "outputs": [
    {
     "data": {
      "text/plain": [
       "subscribers          0\n",
       "company              0\n",
       "jobTitle             0\n",
       "jobDateRange         0\n",
       "company2             0\n",
       "jobTitle2            0\n",
       "jobDateRange2        0\n",
       "school               0\n",
       "schoolDegree         0\n",
       "schoolDateRange      0\n",
       "school2              0\n",
       "schoolUrl2           0\n",
       "schoolDegree2        0\n",
       "schoolDegreeSpec2    0\n",
       "schoolDateRange2     0\n",
       "dtype: int64"
      ]
     },
     "execution_count": 46,
     "metadata": {},
     "output_type": "execute_result"
    }
   ],
   "source": [
    "data.isnull().sum()"
   ]
  },
  {
   "cell_type": "code",
   "execution_count": 56,
   "id": "b1136f8e",
   "metadata": {},
   "outputs": [
    {
     "data": {
      "text/html": [
       "<div>\n",
       "<style scoped>\n",
       "    .dataframe tbody tr th:only-of-type {\n",
       "        vertical-align: middle;\n",
       "    }\n",
       "\n",
       "    .dataframe tbody tr th {\n",
       "        vertical-align: top;\n",
       "    }\n",
       "\n",
       "    .dataframe thead th {\n",
       "        text-align: right;\n",
       "    }\n",
       "</style>\n",
       "<table border=\"1\" class=\"dataframe\">\n",
       "  <thead>\n",
       "    <tr style=\"text-align: right;\">\n",
       "      <th></th>\n",
       "      <th>subscribers</th>\n",
       "      <th>company</th>\n",
       "      <th>jobTitle</th>\n",
       "      <th>jobDateRange</th>\n",
       "      <th>company2</th>\n",
       "      <th>jobTitle2</th>\n",
       "      <th>jobDateRange2</th>\n",
       "      <th>school</th>\n",
       "      <th>schoolDegree</th>\n",
       "      <th>schoolDateRange</th>\n",
       "      <th>school2</th>\n",
       "      <th>schoolDegree2</th>\n",
       "      <th>schoolDegreeSpec2</th>\n",
       "      <th>schoolDateRange2</th>\n",
       "    </tr>\n",
       "  </thead>\n",
       "  <tbody>\n",
       "    <tr>\n",
       "      <th>4</th>\n",
       "      <td>unknown</td>\n",
       "      <td>unknown</td>\n",
       "      <td>unknown</td>\n",
       "      <td>unknown</td>\n",
       "      <td>unknown</td>\n",
       "      <td>unknown</td>\n",
       "      <td>unknown</td>\n",
       "      <td>unknown</td>\n",
       "      <td>unknown</td>\n",
       "      <td>unknown</td>\n",
       "      <td>unknown</td>\n",
       "      <td>unknown</td>\n",
       "      <td>unknown</td>\n",
       "      <td>unknown</td>\n",
       "    </tr>\n",
       "    <tr>\n",
       "      <th>13</th>\n",
       "      <td>unknown</td>\n",
       "      <td>unknown</td>\n",
       "      <td>unknown</td>\n",
       "      <td>unknown</td>\n",
       "      <td>unknown</td>\n",
       "      <td>unknown</td>\n",
       "      <td>unknown</td>\n",
       "      <td>unknown</td>\n",
       "      <td>unknown</td>\n",
       "      <td>unknown</td>\n",
       "      <td>unknown</td>\n",
       "      <td>unknown</td>\n",
       "      <td>unknown</td>\n",
       "      <td>unknown</td>\n",
       "    </tr>\n",
       "    <tr>\n",
       "      <th>15</th>\n",
       "      <td>unknown</td>\n",
       "      <td>unknown</td>\n",
       "      <td>unknown</td>\n",
       "      <td>unknown</td>\n",
       "      <td>unknown</td>\n",
       "      <td>unknown</td>\n",
       "      <td>unknown</td>\n",
       "      <td>unknown</td>\n",
       "      <td>unknown</td>\n",
       "      <td>unknown</td>\n",
       "      <td>unknown</td>\n",
       "      <td>unknown</td>\n",
       "      <td>unknown</td>\n",
       "      <td>unknown</td>\n",
       "    </tr>\n",
       "    <tr>\n",
       "      <th>18</th>\n",
       "      <td>unknown</td>\n",
       "      <td>unknown</td>\n",
       "      <td>unknown</td>\n",
       "      <td>unknown</td>\n",
       "      <td>unknown</td>\n",
       "      <td>unknown</td>\n",
       "      <td>unknown</td>\n",
       "      <td>unknown</td>\n",
       "      <td>unknown</td>\n",
       "      <td>unknown</td>\n",
       "      <td>unknown</td>\n",
       "      <td>unknown</td>\n",
       "      <td>unknown</td>\n",
       "      <td>unknown</td>\n",
       "    </tr>\n",
       "    <tr>\n",
       "      <th>20</th>\n",
       "      <td>unknown</td>\n",
       "      <td>unknown</td>\n",
       "      <td>unknown</td>\n",
       "      <td>unknown</td>\n",
       "      <td>unknown</td>\n",
       "      <td>unknown</td>\n",
       "      <td>unknown</td>\n",
       "      <td>unknown</td>\n",
       "      <td>unknown</td>\n",
       "      <td>unknown</td>\n",
       "      <td>unknown</td>\n",
       "      <td>unknown</td>\n",
       "      <td>unknown</td>\n",
       "      <td>unknown</td>\n",
       "    </tr>\n",
       "    <tr>\n",
       "      <th>152</th>\n",
       "      <td>unknown</td>\n",
       "      <td>unknown</td>\n",
       "      <td>unknown</td>\n",
       "      <td>unknown</td>\n",
       "      <td>unknown</td>\n",
       "      <td>unknown</td>\n",
       "      <td>unknown</td>\n",
       "      <td>unknown</td>\n",
       "      <td>unknown</td>\n",
       "      <td>unknown</td>\n",
       "      <td>unknown</td>\n",
       "      <td>unknown</td>\n",
       "      <td>unknown</td>\n",
       "      <td>unknown</td>\n",
       "    </tr>\n",
       "  </tbody>\n",
       "</table>\n",
       "</div>"
      ],
      "text/plain": [
       "    subscribers  company jobTitle jobDateRange company2 jobTitle2  \\\n",
       "4       unknown  unknown  unknown      unknown  unknown   unknown   \n",
       "13      unknown  unknown  unknown      unknown  unknown   unknown   \n",
       "15      unknown  unknown  unknown      unknown  unknown   unknown   \n",
       "18      unknown  unknown  unknown      unknown  unknown   unknown   \n",
       "20      unknown  unknown  unknown      unknown  unknown   unknown   \n",
       "152     unknown  unknown  unknown      unknown  unknown   unknown   \n",
       "\n",
       "    jobDateRange2   school schoolDegree schoolDateRange  school2  \\\n",
       "4         unknown  unknown      unknown         unknown  unknown   \n",
       "13        unknown  unknown      unknown         unknown  unknown   \n",
       "15        unknown  unknown      unknown         unknown  unknown   \n",
       "18        unknown  unknown      unknown         unknown  unknown   \n",
       "20        unknown  unknown      unknown         unknown  unknown   \n",
       "152       unknown  unknown      unknown         unknown  unknown   \n",
       "\n",
       "    schoolDegree2 schoolDegreeSpec2 schoolDateRange2  \n",
       "4         unknown           unknown          unknown  \n",
       "13        unknown           unknown          unknown  \n",
       "15        unknown           unknown          unknown  \n",
       "18        unknown           unknown          unknown  \n",
       "20        unknown           unknown          unknown  \n",
       "152       unknown           unknown          unknown  "
      ]
     },
     "execution_count": 56,
     "metadata": {},
     "output_type": "execute_result"
    }
   ],
   "source": [
    "empty = data[data['subscribers']=='unknown']\n",
    "empty"
   ]
  },
  {
   "cell_type": "code",
   "execution_count": 60,
   "id": "556121e2",
   "metadata": {},
   "outputs": [],
   "source": [
    "data.drop(index=[4,13,15,18,20,152],axis=0,inplace=True)"
   ]
  },
  {
   "cell_type": "code",
   "execution_count": 69,
   "id": "114d245e",
   "metadata": {},
   "outputs": [],
   "source": [
    "data.to_csv('employees_cleaned.csv')"
   ]
  },
  {
   "cell_type": "code",
   "execution_count": null,
   "id": "3f3a4535",
   "metadata": {},
   "outputs": [],
   "source": []
  }
 ],
 "metadata": {
  "kernelspec": {
   "display_name": "Python 3 (ipykernel)",
   "language": "python",
   "name": "python3"
  },
  "language_info": {
   "codemirror_mode": {
    "name": "ipython",
    "version": 3
   },
   "file_extension": ".py",
   "mimetype": "text/x-python",
   "name": "python",
   "nbconvert_exporter": "python",
   "pygments_lexer": "ipython3",
   "version": "3.9.7"
  }
 },
 "nbformat": 4,
 "nbformat_minor": 5
}
