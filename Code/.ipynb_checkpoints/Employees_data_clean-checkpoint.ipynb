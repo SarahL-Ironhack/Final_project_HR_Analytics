{
 "cells": [
  {
   "cell_type": "code",
   "execution_count": 2,
   "id": "0d4a6cef",
   "metadata": {},
   "outputs": [],
   "source": [
    "import pandas as pd"
   ]
  },
  {
   "cell_type": "code",
   "execution_count": 6,
   "id": "137d7883",
   "metadata": {},
   "outputs": [],
   "source": [
    "emp = pd.read_csv(r\"C:\\Users\\Sarah\\Documents\\Final_project_HR_Analytics\\Datasets\\20 current employees Criteo - PROFILES (start of part2).csv\")"
   ]
  },
  {
   "cell_type": "code",
   "execution_count": 7,
   "id": "31af11da",
   "metadata": {},
   "outputs": [],
   "source": [
    "emp2 = pd.read_csv(r\"C:\\Users\\Sarah\\Documents\\Final_project_HR_Analytics\\Datasets\\200 current employees Criteo PROFILES (part1).csv\")"
   ]
  },
  {
   "cell_type": "code",
   "execution_count": 8,
   "id": "92d38ea9",
   "metadata": {},
   "outputs": [],
   "source": [
    "data = pd.concat([emp, emp2])"
   ]
  },
  {
   "cell_type": "code",
   "execution_count": 9,
   "id": "77fb4442",
   "metadata": {},
   "outputs": [
    {
     "data": {
      "text/plain": [
       "linkedinProfile            1\n",
       "email                    220\n",
       "headline                   6\n",
       "location                   6\n",
       "imgUrl                    26\n",
       "                        ... \n",
       "website                  190\n",
       "error                    218\n",
       "mail                     220\n",
       "mutualConnectionsText    162\n",
       "birthday                 173\n",
       "Length: 63, dtype: int64"
      ]
     },
     "execution_count": 9,
     "metadata": {},
     "output_type": "execute_result"
    }
   ],
   "source": [
    "data.isnull().sum()"
   ]
  },
  {
   "cell_type": "code",
   "execution_count": 10,
   "id": "7e228503",
   "metadata": {},
   "outputs": [
    {
     "data": {
      "text/plain": [
       "Index(['linkedinProfile', 'email', 'headline', 'location', 'imgUrl',\n",
       "       'firstName', 'lastName', 'fullName', 'subscribers', 'connectionDegree',\n",
       "       'vmid', 'userId', 'linkedinSalesNavigatorUrl', 'connectionsUrl',\n",
       "       'mutualConnectionsUrl', 'company', 'companyUrl', 'jobTitle',\n",
       "       'jobDescription', 'jobLocation', 'jobDateRange', 'company2',\n",
       "       'companyUrl2', 'jobTitle2', 'jobDescription2', 'jobLocation2',\n",
       "       'jobDateRange2', 'school', 'schoolDegree', 'schoolDateRange', 'school2',\n",
       "       'schoolUrl2', 'schoolDegree2', 'schoolDegreeSpec2', 'schoolDateRange2',\n",
       "       'baseUrl', 'profileId', 'timestamp', 'description', 'connectionsCount',\n",
       "       'schoolUrl', 'schoolDegreeSpec', 'schoolDescription2', 'allSkills',\n",
       "       'skill1', 'endorsement1', 'skill2', 'endorsement2', 'skill3',\n",
       "       'endorsement3', 'skill4', 'endorsement4', 'skill5', 'endorsement5',\n",
       "       'skill6', 'endorsement6', 'twitter', 'schoolDescription', 'website',\n",
       "       'error', 'mail', 'mutualConnectionsText', 'birthday'],\n",
       "      dtype='object')"
      ]
     },
     "execution_count": 10,
     "metadata": {},
     "output_type": "execute_result"
    }
   ],
   "source": [
    "data.columns"
   ]
  },
  {
   "cell_type": "code",
   "execution_count": 11,
   "id": "dc6a2762",
   "metadata": {},
   "outputs": [],
   "source": [
    "data.head()\n",
    "data.drop(['email','linkedinProfile','imgUrl','fullName','connectionDegree','linkedinSalesNavigatorUrl',\n",
    "          'connectionsUrl','mutualConnectionsUrl','baseUrl','twitter','schoolDescription','website',\n",
    "          'error','mail','mutualConnectionsText','birthday'],axis=1, inplace=True)"
   ]
  },
  {
   "cell_type": "code",
   "execution_count": 12,
   "id": "5c8c2950",
   "metadata": {},
   "outputs": [
    {
     "data": {
      "text/plain": [
       "Index(['headline', 'location', 'firstName', 'lastName', 'subscribers', 'vmid',\n",
       "       'userId', 'company', 'companyUrl', 'jobTitle', 'jobDescription',\n",
       "       'jobLocation', 'jobDateRange', 'company2', 'companyUrl2', 'jobTitle2',\n",
       "       'jobDescription2', 'jobLocation2', 'jobDateRange2', 'school',\n",
       "       'schoolDegree', 'schoolDateRange', 'school2', 'schoolUrl2',\n",
       "       'schoolDegree2', 'schoolDegreeSpec2', 'schoolDateRange2', 'profileId',\n",
       "       'timestamp', 'description', 'connectionsCount', 'schoolUrl',\n",
       "       'schoolDegreeSpec', 'schoolDescription2', 'allSkills', 'skill1',\n",
       "       'endorsement1', 'skill2', 'endorsement2', 'skill3', 'endorsement3',\n",
       "       'skill4', 'endorsement4', 'skill5', 'endorsement5', 'skill6',\n",
       "       'endorsement6'],\n",
       "      dtype='object')"
      ]
     },
     "execution_count": 12,
     "metadata": {},
     "output_type": "execute_result"
    }
   ],
   "source": [
    "data.columns"
   ]
  },
  {
   "cell_type": "code",
   "execution_count": 13,
   "id": "8a2e5629",
   "metadata": {},
   "outputs": [],
   "source": [
    "data.drop(['vmid','userId','companyUrl','skill2','endorsement2','skill3','endorsement3','skill4',\n",
    "           'endorsement4','skill5','endorsement5','skill6','endorsement6'],axis=1, inplace=True)"
   ]
  },
  {
   "cell_type": "code",
   "execution_count": 14,
   "id": "6dd1b425",
   "metadata": {},
   "outputs": [],
   "source": [
    "data.drop(['jobDescription','profileId','timestamp'], axis=1, inplace=True)"
   ]
  },
  {
   "cell_type": "code",
   "execution_count": 15,
   "id": "5d90bd59",
   "metadata": {},
   "outputs": [],
   "source": [
    "data.drop(['jobDescription2','companyUrl2','jobLocation2','description','connectionsCount','schoolUrl',\n",
    "          'schoolDegreeSpec','schoolDescription2'], axis=1, inplace=True)"
   ]
  },
  {
   "cell_type": "code",
   "execution_count": 16,
   "id": "5a35055b",
   "metadata": {},
   "outputs": [
    {
     "data": {
      "text/plain": [
       "headline              6\n",
       "location              6\n",
       "firstName             6\n",
       "lastName              6\n",
       "subscribers           6\n",
       "company               6\n",
       "jobTitle              6\n",
       "jobLocation          49\n",
       "jobDateRange          6\n",
       "company2              6\n",
       "jobTitle2             6\n",
       "jobDateRange2         6\n",
       "school               10\n",
       "schoolDegree         29\n",
       "schoolDateRange      15\n",
       "school2              35\n",
       "schoolUrl2           81\n",
       "schoolDegree2        62\n",
       "schoolDegreeSpec2    77\n",
       "schoolDateRange2     39\n",
       "allSkills            18\n",
       "skill1               18\n",
       "endorsement1         18\n",
       "dtype: int64"
      ]
     },
     "execution_count": 16,
     "metadata": {},
     "output_type": "execute_result"
    }
   ],
   "source": [
    "data.isnull().sum()"
   ]
  },
  {
   "cell_type": "code",
   "execution_count": 17,
   "id": "8aa1ba1b",
   "metadata": {},
   "outputs": [],
   "source": [
    "data.drop(['headline','location','firstName','lastName','jobLocation','allSkills','skill1',\n",
    "           'endorsement1'],axis=1, inplace=True)"
   ]
  },
  {
   "cell_type": "code",
   "execution_count": 18,
   "id": "c3e8782f",
   "metadata": {},
   "outputs": [],
   "source": [
    "data.drop(['schoolUrl2'],axis=1,inplace=True)"
   ]
  },
  {
   "cell_type": "code",
   "execution_count": 19,
   "id": "23e7d77b",
   "metadata": {},
   "outputs": [
    {
     "data": {
      "text/plain": [
       "(223, 14)"
      ]
     },
     "execution_count": 19,
     "metadata": {},
     "output_type": "execute_result"
    }
   ],
   "source": [
    "data.shape"
   ]
  },
  {
   "cell_type": "code",
   "execution_count": 20,
   "id": "3d6ebee5",
   "metadata": {},
   "outputs": [],
   "source": [
    "data.fillna('unknown',inplace=True)"
   ]
  },
  {
   "cell_type": "code",
   "execution_count": 21,
   "id": "50d748e7",
   "metadata": {},
   "outputs": [
    {
     "data": {
      "text/plain": [
       "subscribers          0\n",
       "company              0\n",
       "jobTitle             0\n",
       "jobDateRange         0\n",
       "company2             0\n",
       "jobTitle2            0\n",
       "jobDateRange2        0\n",
       "school               0\n",
       "schoolDegree         0\n",
       "schoolDateRange      0\n",
       "school2              0\n",
       "schoolDegree2        0\n",
       "schoolDegreeSpec2    0\n",
       "schoolDateRange2     0\n",
       "dtype: int64"
      ]
     },
     "execution_count": 21,
     "metadata": {},
     "output_type": "execute_result"
    }
   ],
   "source": [
    "data.isnull().sum()"
   ]
  },
  {
   "cell_type": "code",
   "execution_count": 22,
   "id": "b1136f8e",
   "metadata": {},
   "outputs": [
    {
     "data": {
      "text/html": [
       "<div>\n",
       "<style scoped>\n",
       "    .dataframe tbody tr th:only-of-type {\n",
       "        vertical-align: middle;\n",
       "    }\n",
       "\n",
       "    .dataframe tbody tr th {\n",
       "        vertical-align: top;\n",
       "    }\n",
       "\n",
       "    .dataframe thead th {\n",
       "        text-align: right;\n",
       "    }\n",
       "</style>\n",
       "<table border=\"1\" class=\"dataframe\">\n",
       "  <thead>\n",
       "    <tr style=\"text-align: right;\">\n",
       "      <th></th>\n",
       "      <th>subscribers</th>\n",
       "      <th>company</th>\n",
       "      <th>jobTitle</th>\n",
       "      <th>jobDateRange</th>\n",
       "      <th>company2</th>\n",
       "      <th>jobTitle2</th>\n",
       "      <th>jobDateRange2</th>\n",
       "      <th>school</th>\n",
       "      <th>schoolDegree</th>\n",
       "      <th>schoolDateRange</th>\n",
       "      <th>school2</th>\n",
       "      <th>schoolDegree2</th>\n",
       "      <th>schoolDegreeSpec2</th>\n",
       "      <th>schoolDateRange2</th>\n",
       "    </tr>\n",
       "  </thead>\n",
       "  <tbody>\n",
       "    <tr>\n",
       "      <th>4</th>\n",
       "      <td>unknown</td>\n",
       "      <td>unknown</td>\n",
       "      <td>unknown</td>\n",
       "      <td>unknown</td>\n",
       "      <td>unknown</td>\n",
       "      <td>unknown</td>\n",
       "      <td>unknown</td>\n",
       "      <td>unknown</td>\n",
       "      <td>unknown</td>\n",
       "      <td>unknown</td>\n",
       "      <td>unknown</td>\n",
       "      <td>unknown</td>\n",
       "      <td>unknown</td>\n",
       "      <td>unknown</td>\n",
       "    </tr>\n",
       "    <tr>\n",
       "      <th>13</th>\n",
       "      <td>unknown</td>\n",
       "      <td>unknown</td>\n",
       "      <td>unknown</td>\n",
       "      <td>unknown</td>\n",
       "      <td>unknown</td>\n",
       "      <td>unknown</td>\n",
       "      <td>unknown</td>\n",
       "      <td>unknown</td>\n",
       "      <td>unknown</td>\n",
       "      <td>unknown</td>\n",
       "      <td>unknown</td>\n",
       "      <td>unknown</td>\n",
       "      <td>unknown</td>\n",
       "      <td>unknown</td>\n",
       "    </tr>\n",
       "    <tr>\n",
       "      <th>15</th>\n",
       "      <td>unknown</td>\n",
       "      <td>unknown</td>\n",
       "      <td>unknown</td>\n",
       "      <td>unknown</td>\n",
       "      <td>unknown</td>\n",
       "      <td>unknown</td>\n",
       "      <td>unknown</td>\n",
       "      <td>unknown</td>\n",
       "      <td>unknown</td>\n",
       "      <td>unknown</td>\n",
       "      <td>unknown</td>\n",
       "      <td>unknown</td>\n",
       "      <td>unknown</td>\n",
       "      <td>unknown</td>\n",
       "    </tr>\n",
       "    <tr>\n",
       "      <th>18</th>\n",
       "      <td>unknown</td>\n",
       "      <td>unknown</td>\n",
       "      <td>unknown</td>\n",
       "      <td>unknown</td>\n",
       "      <td>unknown</td>\n",
       "      <td>unknown</td>\n",
       "      <td>unknown</td>\n",
       "      <td>unknown</td>\n",
       "      <td>unknown</td>\n",
       "      <td>unknown</td>\n",
       "      <td>unknown</td>\n",
       "      <td>unknown</td>\n",
       "      <td>unknown</td>\n",
       "      <td>unknown</td>\n",
       "    </tr>\n",
       "    <tr>\n",
       "      <th>20</th>\n",
       "      <td>unknown</td>\n",
       "      <td>unknown</td>\n",
       "      <td>unknown</td>\n",
       "      <td>unknown</td>\n",
       "      <td>unknown</td>\n",
       "      <td>unknown</td>\n",
       "      <td>unknown</td>\n",
       "      <td>unknown</td>\n",
       "      <td>unknown</td>\n",
       "      <td>unknown</td>\n",
       "      <td>unknown</td>\n",
       "      <td>unknown</td>\n",
       "      <td>unknown</td>\n",
       "      <td>unknown</td>\n",
       "    </tr>\n",
       "    <tr>\n",
       "      <th>152</th>\n",
       "      <td>unknown</td>\n",
       "      <td>unknown</td>\n",
       "      <td>unknown</td>\n",
       "      <td>unknown</td>\n",
       "      <td>unknown</td>\n",
       "      <td>unknown</td>\n",
       "      <td>unknown</td>\n",
       "      <td>unknown</td>\n",
       "      <td>unknown</td>\n",
       "      <td>unknown</td>\n",
       "      <td>unknown</td>\n",
       "      <td>unknown</td>\n",
       "      <td>unknown</td>\n",
       "      <td>unknown</td>\n",
       "    </tr>\n",
       "  </tbody>\n",
       "</table>\n",
       "</div>"
      ],
      "text/plain": [
       "    subscribers  company jobTitle jobDateRange company2 jobTitle2  \\\n",
       "4       unknown  unknown  unknown      unknown  unknown   unknown   \n",
       "13      unknown  unknown  unknown      unknown  unknown   unknown   \n",
       "15      unknown  unknown  unknown      unknown  unknown   unknown   \n",
       "18      unknown  unknown  unknown      unknown  unknown   unknown   \n",
       "20      unknown  unknown  unknown      unknown  unknown   unknown   \n",
       "152     unknown  unknown  unknown      unknown  unknown   unknown   \n",
       "\n",
       "    jobDateRange2   school schoolDegree schoolDateRange  school2  \\\n",
       "4         unknown  unknown      unknown         unknown  unknown   \n",
       "13        unknown  unknown      unknown         unknown  unknown   \n",
       "15        unknown  unknown      unknown         unknown  unknown   \n",
       "18        unknown  unknown      unknown         unknown  unknown   \n",
       "20        unknown  unknown      unknown         unknown  unknown   \n",
       "152       unknown  unknown      unknown         unknown  unknown   \n",
       "\n",
       "    schoolDegree2 schoolDegreeSpec2 schoolDateRange2  \n",
       "4         unknown           unknown          unknown  \n",
       "13        unknown           unknown          unknown  \n",
       "15        unknown           unknown          unknown  \n",
       "18        unknown           unknown          unknown  \n",
       "20        unknown           unknown          unknown  \n",
       "152       unknown           unknown          unknown  "
      ]
     },
     "execution_count": 22,
     "metadata": {},
     "output_type": "execute_result"
    }
   ],
   "source": [
    "empty = data[data['subscribers']=='unknown']\n",
    "empty"
   ]
  },
  {
   "cell_type": "code",
   "execution_count": 23,
   "id": "556121e2",
   "metadata": {},
   "outputs": [],
   "source": [
    "data.drop(index=[4,13,15,18,20,152],axis=0,inplace=True)"
   ]
  },
  {
   "cell_type": "code",
   "execution_count": 24,
   "id": "114d245e",
   "metadata": {},
   "outputs": [],
   "source": [
    "data.to_csv('employees_cleaned.csv')"
   ]
  },
  {
   "cell_type": "code",
   "execution_count": 25,
   "id": "3f3a4535",
   "metadata": {},
   "outputs": [
    {
     "data": {
      "text/html": [
       "<div>\n",
       "<style scoped>\n",
       "    .dataframe tbody tr th:only-of-type {\n",
       "        vertical-align: middle;\n",
       "    }\n",
       "\n",
       "    .dataframe tbody tr th {\n",
       "        vertical-align: top;\n",
       "    }\n",
       "\n",
       "    .dataframe thead th {\n",
       "        text-align: right;\n",
       "    }\n",
       "</style>\n",
       "<table border=\"1\" class=\"dataframe\">\n",
       "  <thead>\n",
       "    <tr style=\"text-align: right;\">\n",
       "      <th></th>\n",
       "      <th>subscribers</th>\n",
       "      <th>company</th>\n",
       "      <th>jobTitle</th>\n",
       "      <th>jobDateRange</th>\n",
       "      <th>company2</th>\n",
       "      <th>jobTitle2</th>\n",
       "      <th>jobDateRange2</th>\n",
       "      <th>school</th>\n",
       "      <th>schoolDegree</th>\n",
       "      <th>schoolDateRange</th>\n",
       "      <th>school2</th>\n",
       "      <th>schoolDegree2</th>\n",
       "      <th>schoolDegreeSpec2</th>\n",
       "      <th>schoolDateRange2</th>\n",
       "    </tr>\n",
       "  </thead>\n",
       "  <tbody>\n",
       "    <tr>\n",
       "      <th>0</th>\n",
       "      <td>434.0</td>\n",
       "      <td>Criteo</td>\n",
       "      <td>Lead Product Manager</td>\n",
       "      <td>avr. 2020 – Aujourd’hui</td>\n",
       "      <td>Criteo</td>\n",
       "      <td>Senior Product Manager</td>\n",
       "      <td>janv. 2018 – mars 2020</td>\n",
       "      <td>Supélec</td>\n",
       "      <td>Ingénieur</td>\n",
       "      <td>2010 – 2014</td>\n",
       "      <td>KTH Royal Institute of Technology</td>\n",
       "      <td>Douple diplôme</td>\n",
       "      <td>Engineering &amp; Management of Information Systems</td>\n",
       "      <td>2013 – 2014</td>\n",
       "    </tr>\n",
       "    <tr>\n",
       "      <th>1</th>\n",
       "      <td>1325.0</td>\n",
       "      <td>Criteo</td>\n",
       "      <td>Chief of Staff, Chief People Officier and Inte...</td>\n",
       "      <td>mai 2018 – Aujourd’hui</td>\n",
       "      <td>LESS</td>\n",
       "      <td>Cofounder - Business Development</td>\n",
       "      <td>oct. 2016 – avr. 2018</td>\n",
       "      <td>SUPELEC</td>\n",
       "      <td>Master of Engineering - MEng</td>\n",
       "      <td>1988 – 1991</td>\n",
       "      <td>HEC Paris</td>\n",
       "      <td>unknown</td>\n",
       "      <td>unknown</td>\n",
       "      <td>2013 – 2014</td>\n",
       "    </tr>\n",
       "    <tr>\n",
       "      <th>2</th>\n",
       "      <td>1185.0</td>\n",
       "      <td>Criteo</td>\n",
       "      <td>Head of Supply Quality and Brand Safety</td>\n",
       "      <td>nov. 2020 – Aujourd’hui</td>\n",
       "      <td>Criteo</td>\n",
       "      <td>Head of Supply Quality</td>\n",
       "      <td>janv. 2019 – nov. 2020</td>\n",
       "      <td>Master International Sport and Event Managemen...</td>\n",
       "      <td>Master</td>\n",
       "      <td>2010 – 2011</td>\n",
       "      <td>University of Southern Denmark</td>\n",
       "      <td>Echange Erasmus</td>\n",
       "      <td>Marketing</td>\n",
       "      <td>2010 – 2010</td>\n",
       "    </tr>\n",
       "    <tr>\n",
       "      <th>3</th>\n",
       "      <td>825.0</td>\n",
       "      <td>Criteo</td>\n",
       "      <td>Sales Manager Retail Media FR</td>\n",
       "      <td>janv. 2021 – Aujourd’hui</td>\n",
       "      <td>Criteo</td>\n",
       "      <td>Senior Account Strategist Retail Media FR</td>\n",
       "      <td>avr. 2020 – janv. 2021</td>\n",
       "      <td>ESSCA</td>\n",
       "      <td>Management</td>\n",
       "      <td>2013 – 2018</td>\n",
       "      <td>Dublin City University</td>\n",
       "      <td>Semestre académique</td>\n",
       "      <td>Management</td>\n",
       "      <td>2015 – 2015</td>\n",
       "    </tr>\n",
       "    <tr>\n",
       "      <th>5</th>\n",
       "      <td>769.0</td>\n",
       "      <td>Criteo</td>\n",
       "      <td>Staff Engineering Program Manager</td>\n",
       "      <td>mars 2021 – Aujourd’hui</td>\n",
       "      <td>Blizzard Entertainment</td>\n",
       "      <td>Director of IT, Europe</td>\n",
       "      <td>mars 2015 – mars 2021</td>\n",
       "      <td>unknown</td>\n",
       "      <td>unknown</td>\n",
       "      <td>unknown</td>\n",
       "      <td>unknown</td>\n",
       "      <td>unknown</td>\n",
       "      <td>unknown</td>\n",
       "      <td>unknown</td>\n",
       "    </tr>\n",
       "  </tbody>\n",
       "</table>\n",
       "</div>"
      ],
      "text/plain": [
       "  subscribers company                                           jobTitle  \\\n",
       "0       434.0  Criteo                               Lead Product Manager   \n",
       "1      1325.0  Criteo  Chief of Staff, Chief People Officier and Inte...   \n",
       "2      1185.0  Criteo            Head of Supply Quality and Brand Safety   \n",
       "3       825.0  Criteo                      Sales Manager Retail Media FR   \n",
       "5       769.0  Criteo                  Staff Engineering Program Manager   \n",
       "\n",
       "               jobDateRange                company2  \\\n",
       "0   avr. 2020 – Aujourd’hui                  Criteo   \n",
       "1    mai 2018 – Aujourd’hui                    LESS   \n",
       "2   nov. 2020 – Aujourd’hui                  Criteo   \n",
       "3  janv. 2021 – Aujourd’hui                  Criteo   \n",
       "5   mars 2021 – Aujourd’hui  Blizzard Entertainment   \n",
       "\n",
       "                                   jobTitle2           jobDateRange2  \\\n",
       "0                     Senior Product Manager  janv. 2018 – mars 2020   \n",
       "1           Cofounder - Business Development   oct. 2016 – avr. 2018   \n",
       "2                     Head of Supply Quality  janv. 2019 – nov. 2020   \n",
       "3  Senior Account Strategist Retail Media FR  avr. 2020 – janv. 2021   \n",
       "5                     Director of IT, Europe   mars 2015 – mars 2021   \n",
       "\n",
       "                                              school  \\\n",
       "0                                            Supélec   \n",
       "1                                            SUPELEC   \n",
       "2  Master International Sport and Event Managemen...   \n",
       "3                                              ESSCA   \n",
       "5                                            unknown   \n",
       "\n",
       "                   schoolDegree schoolDateRange  \\\n",
       "0                     Ingénieur     2010 – 2014   \n",
       "1  Master of Engineering - MEng     1988 – 1991   \n",
       "2                        Master     2010 – 2011   \n",
       "3                    Management     2013 – 2018   \n",
       "5                       unknown         unknown   \n",
       "\n",
       "                             school2        schoolDegree2  \\\n",
       "0  KTH Royal Institute of Technology       Douple diplôme   \n",
       "1                          HEC Paris              unknown   \n",
       "2     University of Southern Denmark      Echange Erasmus   \n",
       "3             Dublin City University  Semestre académique   \n",
       "5                            unknown              unknown   \n",
       "\n",
       "                                 schoolDegreeSpec2 schoolDateRange2  \n",
       "0  Engineering & Management of Information Systems      2013 – 2014  \n",
       "1                                          unknown      2013 – 2014  \n",
       "2                                        Marketing      2010 – 2010  \n",
       "3                                       Management      2015 – 2015  \n",
       "5                                          unknown          unknown  "
      ]
     },
     "execution_count": 25,
     "metadata": {},
     "output_type": "execute_result"
    }
   ],
   "source": [
    "data.head()"
   ]
  },
  {
   "cell_type": "code",
   "execution_count": 26,
   "id": "09240f77",
   "metadata": {},
   "outputs": [
    {
     "data": {
      "text/plain": [
       "Software Engineer                     5\n",
       "Product Manager                       5\n",
       "Account Strategist                    4\n",
       "Account Strategist Retail Media       3\n",
       "Senior Sales Manager                  3\n",
       "                                     ..\n",
       "Vice Chairman, Research Committee     1\n",
       "R&D ML Engineer                       1\n",
       "Talent Acquisition Team Lead, EMEA    1\n",
       "Senior Staff Development Lead         1\n",
       "Strategy & Finance Director - EMEA    1\n",
       "Name: jobTitle, Length: 191, dtype: int64"
      ]
     },
     "execution_count": 26,
     "metadata": {},
     "output_type": "execute_result"
    }
   ],
   "source": [
    "data['jobTitle'].value_counts()"
   ]
  },
  {
   "cell_type": "code",
   "execution_count": null,
   "id": "4f7738bb",
   "metadata": {},
   "outputs": [],
   "source": []
  }
 ],
 "metadata": {
  "kernelspec": {
   "display_name": "Python 3 (ipykernel)",
   "language": "python",
   "name": "python3"
  },
  "language_info": {
   "codemirror_mode": {
    "name": "ipython",
    "version": 3
   },
   "file_extension": ".py",
   "mimetype": "text/x-python",
   "name": "python",
   "nbconvert_exporter": "python",
   "pygments_lexer": "ipython3",
   "version": "3.9.7"
  }
 },
 "nbformat": 4,
 "nbformat_minor": 5
}
